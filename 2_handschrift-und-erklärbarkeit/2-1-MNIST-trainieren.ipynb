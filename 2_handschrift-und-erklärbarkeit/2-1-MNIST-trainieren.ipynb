{
 "cells": [
  {
   "cell_type": "markdown",
   "id": "50d59337-2725-4361-932a-d95b4be18f4c",
   "metadata": {},
   "source": [
    "# Handschrifterkennung mit MNIST\n",
    "\n",
    "Im letzten Notebook habt ihr euch mit einfachen Datensätze im zweidimensionalen Raum beschäftigt. Die Auswertung der Modelle war schnell und einfach, die Trainigszeiten kurz. Die Verteilung der Daten in ihrem respektiven Datenraum konnten bequem visualisiert und abgeschätzt werden.\n",
    "\n",
    "In dieser Session werdet ihr das [MNIST dataset](https://en.wikipedia.org/wiki/MNIST_database) kennen lernen, eine Sammlung handgeschriebener Ziffern von 0 bis 9, mit insgesamt um die 60.000 Datenpunkten. Jedes dieser Bilder wird als 768-dimensionaler Vektor bereitgestellt, welcher ein 28 x 28 - pixel großes Bild darstellen soll.\n",
    "\n",
    "Ladet zunächst den MNIST-Datensatz herunter. Die Daten befinden sich gepackt hinter den folgenden links:\n",
    "\n"
   ]
  },
  {
   "cell_type": "code",
   "execution_count": null,
   "id": "f5b081ae-67e6-44f9-abf3-149ad68ca07c",
   "metadata": {},
   "outputs": [],
   "source": []
  }
 ],
 "metadata": {
  "kernelspec": {
   "display_name": "Python 3",
   "language": "python",
   "name": "python3"
  },
  "language_info": {
   "codemirror_mode": {
    "name": "ipython",
    "version": 3
   },
   "file_extension": ".py",
   "mimetype": "text/x-python",
   "name": "python",
   "nbconvert_exporter": "python",
   "pygments_lexer": "ipython3",
   "version": "3.10.4"
  }
 },
 "nbformat": 4,
 "nbformat_minor": 5
}
